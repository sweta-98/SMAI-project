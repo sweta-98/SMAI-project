{
 "cells": [
  {
   "cell_type": "code",
   "execution_count": 1,
   "metadata": {
    "id": "Xzc87dgU3o46"
   },
   "outputs": [],
   "source": [
    "import pandas as pd\n",
    "import shap\n",
    "import numpy as np\n",
    "import joblib\n",
    "import pickle"
   ]
  },
  {
   "cell_type": "code",
   "execution_count": 2,
   "metadata": {},
   "outputs": [],
   "source": [
    "df = pd.read_csv('data/data_FE.csv')"
   ]
  },
  {
   "cell_type": "code",
   "execution_count": 3,
   "metadata": {},
   "outputs": [],
   "source": [
    "model = joblib.load('models/bagging_model_balanced_oversampled.joblib')\n",
    "scaler = joblib.load('models/scaler_oversampled.joblib')"
   ]
  },
  {
   "cell_type": "code",
   "execution_count": 4,
   "metadata": {
    "colab": {
     "base_uri": "https://localhost:8080/",
     "height": 850
    },
    "id": "r3L67WxT4I-Y",
    "outputId": "e6a610c7-cd32-413e-a11f-b8fb9f284618"
   },
   "outputs": [],
   "source": [
    "feat = ['perceived_exertion.0', 'perceived_recovery.0', 'nr._sessions.0', 'total_km.0', 'stress_ratio.0']\n",
    "X = df[feat]\n",
    "\n",
    "rename_map = {\n",
    "    \"nr._sessions.0\": \"nr. sessions\",\n",
    "    \"perceived_exertion.0\": \"perceived exertion\",\n",
    "    \"perceived_recovery.0\": \"perceived recovery\",\n",
    "    \"stress_ratio.0\": \"stress ratio\",\n",
    "    \"total_km.0\": \"total km\"\n",
    "}\n",
    "X = X.rename(columns=rename_map)\n",
    "X_scaled = scaler.transform(X)"
   ]
  },
  {
   "cell_type": "markdown",
   "metadata": {},
   "source": [
    "# SHAP"
   ]
  },
  {
   "cell_type": "code",
   "execution_count": 5,
   "metadata": {},
   "outputs": [],
   "source": [
    "X_scaled[0:1] \n",
    "sample = X_scaled[0:1]"
   ]
  },
  {
   "cell_type": "code",
   "execution_count": 6,
   "metadata": {},
   "outputs": [],
   "source": [
    "explainer = shap.Explainer(model.predict_proba, X_scaled, feature_names=feat)\n",
    "\n",
    "\n",
    "with open('models/shap_explainer.pkl', 'wb') as f:\n",
    "    pickle.dump(explainer, f)"
   ]
  },
  {
   "cell_type": "code",
   "execution_count": 8,
   "metadata": {},
   "outputs": [
    {
     "name": "stdout",
     "output_type": "stream",
     "text": [
      "perceived_exertion.0 | input =   -0.703 | shap =   -0.034\n",
      "perceived_recovery.0 | input =   -0.252 | shap =   -0.012\n",
      "nr._sessions.0       | input =    0.225 | shap =   -0.024\n",
      "total_km.0           | input =   -0.237 | shap =   -0.082\n",
      "stress_ratio.0       | input =   -0.595 | shap =   -0.006\n"
     ]
    }
   ],
   "source": [
    "# Compute SHAP values for the single sample\n",
    "shap_values = explainer(sample)\n",
    "\n",
    "# Extract SHAP values for class 1 (probability for class 1) - All 5 features\n",
    "shap_vals_class1 = shap_values.values[0, :, 1]  # This will give a 1D array of SHAP values for class 1\n",
    "input_values = sample[0]  # The feature values for the sample as a 1D array\n",
    "\n",
    "# Print lengths and shapes to debug\n",
    "# print(f\"Length of input_values: {len(input_values)}\")\n",
    "# print(f\"Length of shap_vals_class1: {len(shap_vals_class1)}\")\n",
    "# print(f\"Length of rename_map (feature names): {len(rename_map)}\")\n",
    "\n",
    "# # Print shapes for inspection\n",
    "# print(f\"Shape of shap_values: {shap_values.values.shape}\")\n",
    "# print(f\"Shape of sample: {sample.shape}\")\n",
    "\n",
    "\n",
    "# Print SHAP values per feature\n",
    "for name, value, shap_val in zip(feat, input_values, shap_vals_class1):\n",
    "    print(f\"{name:<20} | input = {value:>8.3f} | shap = {shap_val:>8.3f}\")"
   ]
  },
  {
   "cell_type": "code",
   "execution_count": 10,
   "metadata": {},
   "outputs": [
    {
     "data": {
      "text/plain": [
       ".values =\n",
       "array([[[ 0.03369707, -0.03369707],\n",
       "        [ 0.01209961, -0.01209961],\n",
       "        [ 0.02355825, -0.02355825],\n",
       "        [ 0.0824265 , -0.0824265 ],\n",
       "        [ 0.00607224, -0.00607224]]])\n",
       "\n",
       ".base_values =\n",
       "array([[0.84214633, 0.15785367]])\n",
       "\n",
       ".data =\n",
       "array([[-0.70328443, -0.25157689,  0.22501086, -0.23739315, -0.59490634]])"
      ]
     },
     "execution_count": 10,
     "metadata": {},
     "output_type": "execute_result"
    }
   ],
   "source": [
    "shap_values"
   ]
  }
 ],
 "metadata": {
  "colab": {
   "provenance": []
  },
  "kernelspec": {
   "display_name": "Python 3 (ipykernel)",
   "language": "python",
   "name": "python3"
  },
  "language_info": {
   "codemirror_mode": {
    "name": "ipython",
    "version": 3
   },
   "file_extension": ".py",
   "mimetype": "text/x-python",
   "name": "python",
   "nbconvert_exporter": "python",
   "pygments_lexer": "ipython3",
   "version": "3.11.5"
  }
 },
 "nbformat": 4,
 "nbformat_minor": 1
}
