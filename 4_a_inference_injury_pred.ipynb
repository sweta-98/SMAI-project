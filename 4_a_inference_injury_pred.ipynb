{
  "cells": [
    {
      "cell_type": "code",
      "execution_count": null,
      "metadata": {
        "colab": {
          "base_uri": "https://localhost:8080/"
        },
        "id": "KAxv6afT3dNB",
        "outputId": "b1836338-ba56-4ccb-aff8-1c3208f68b6b"
      },
      "outputs": [
        {
          "name": "stdout",
          "output_type": "stream",
          "text": [
            "Perceived exertion (float) (between -1 and 1)\n",
            "Perceived recovery (float) (between -1 and 1)\n",
            "Number of sessions (float) (among 0.0/1.0/2.0)\n",
            "Total kilometers (float) above 0.0)\n",
            "Stress ratio (float) (between -1 and 1)\n",
            "\n",
            "Enter all the above features separated by tab space: -0.01\t-0.01\t0.0\t0.0\t1.000000\n",
            "Predicted Class: 0\n",
            "Class Probabilities: [0.61216612 0.38783388]\n"
          ]
        },
        {
          "name": "stderr",
          "output_type": "stream",
          "text": [
            "/usr/local/lib/python3.11/dist-packages/sklearn/utils/validation.py:2739: UserWarning: X does not have valid feature names, but StandardScaler was fitted with feature names\n",
            "  warnings.warn(\n"
          ]
        }
      ],
      "source": [
        "import joblib\n",
        "import numpy as np\n",
        "\n",
        "# Load the saved model\n",
        "model = joblib.load('models/bagging_model_balanced_oversampled.joblib')\n",
        "scaler = joblib.load('models/scaler_oversampled.joblib')\n",
        "\n",
        "# Get user input\n",
        "print(\"Perceived exertion (float) (between -1 and 1)\")\n",
        "print(\"Perceived recovery (float) (between -1 and 1)\")\n",
        "print(\"Number of sessions (float) (among 0.0/1.0/2.0)\")\n",
        "print(\"Total kilometers (float) above 0.0)\")\n",
        "print(\"Stress ratio (float) (between -1 and 1)\")\n",
        "print()\n",
        "user_input = input(\"Enter all the above features separated by tab space: \")\n",
        "\n",
        "# Convert input to numpy array\n",
        "try:\n",
        "  try:\n",
        "    features = np.array([float(x) for x in user_input.strip().split(' ')]).reshape(1, -1)\n",
        "  except:\n",
        "    features = np.array([float(x) for x in user_input.strip().split('\\t')]).reshape(1, -1)\n",
        "\n",
        "  # Scale the data using the original scaler\n",
        "  features = scaler.transform(features)\n",
        "\n",
        "  # Predict class and probability\n",
        "  pred_class = model.predict(features)[0]\n",
        "  pred_proba = model.predict_proba(features)[0]\n",
        "\n",
        "  print(\"Predicted Class:\", pred_class)\n",
        "  print(\"Class Probabilities:\", pred_proba)\n",
        "except Exception as e:\n",
        "    print(\"Invalid input. Please enter numbers separated by space or tab space.\")\n",
        "    print(\"Error:\", e)\n"
      ]
    }
  ],
  "metadata": {
    "colab": {
      "provenance": []
    },
    "kernelspec": {
      "display_name": "Python 3",
      "name": "python3"
    },
    "language_info": {
      "name": "python"
    }
  },
  "nbformat": 4,
  "nbformat_minor": 0
}
