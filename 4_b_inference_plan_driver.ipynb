{
  "nbformat": 4,
  "nbformat_minor": 0,
  "metadata": {
    "colab": {
      "provenance": []
    },
    "kernelspec": {
      "name": "python3",
      "display_name": "Python 3"
    },
    "language_info": {
      "name": "python"
    }
  },
  "cells": [
    {
      "cell_type": "code",
      "source": [
        "from google.colab import drive\n",
        "drive.mount('/content/drive')"
      ],
      "metadata": {
        "colab": {
          "base_uri": "https://localhost:8080/"
        },
        "id": "Q_JghvtgL879",
        "outputId": "4b3b0cf5-baae-4827-868d-0d6297b3086e"
      },
      "execution_count": 1,
      "outputs": [
        {
          "output_type": "stream",
          "name": "stdout",
          "text": [
            "Mounted at /content/drive\n"
          ]
        }
      ]
    },
    {
      "cell_type": "code",
      "source": [
        "proj_path = '/content/drive/MyDrive/smai_project/'"
      ],
      "metadata": {
        "id": "vYWN5fx50orE"
      },
      "execution_count": 2,
      "outputs": []
    },
    {
      "cell_type": "code",
      "source": [
        "from google.colab import userdata\n",
        "import os\n",
        "os.environ[\"GROQ_API_KEY\"] = userdata.get('GROQ_API_KEY')"
      ],
      "metadata": {
        "id": "PLfX_wZGMIej"
      },
      "execution_count": 3,
      "outputs": []
    },
    {
      "cell_type": "code",
      "source": [
        "!pip install gym\n",
        "!pip install stable-baselines3\n",
        "!pip install shimmy>=2.0\n",
        "!pip install groq"
      ],
      "metadata": {
        "colab": {
          "base_uri": "https://localhost:8080/"
        },
        "id": "rX53S21LLilO",
        "outputId": "face5be3-c70c-4930-fcff-202ce5fb8045"
      },
      "execution_count": 4,
      "outputs": [
        {
          "output_type": "stream",
          "name": "stdout",
          "text": [
            "Requirement already satisfied: gym in /usr/local/lib/python3.11/dist-packages (0.25.2)\n",
            "Requirement already satisfied: numpy>=1.18.0 in /usr/local/lib/python3.11/dist-packages (from gym) (2.0.2)\n",
            "Requirement already satisfied: cloudpickle>=1.2.0 in /usr/local/lib/python3.11/dist-packages (from gym) (3.1.1)\n",
            "Requirement already satisfied: gym-notices>=0.0.4 in /usr/local/lib/python3.11/dist-packages (from gym) (0.0.8)\n",
            "Collecting stable-baselines3\n",
            "  Downloading stable_baselines3-2.6.0-py3-none-any.whl.metadata (4.8 kB)\n",
            "Requirement already satisfied: gymnasium<1.2.0,>=0.29.1 in /usr/local/lib/python3.11/dist-packages (from stable-baselines3) (1.1.1)\n",
            "Requirement already satisfied: numpy<3.0,>=1.20 in /usr/local/lib/python3.11/dist-packages (from stable-baselines3) (2.0.2)\n",
            "Requirement already satisfied: torch<3.0,>=2.3 in /usr/local/lib/python3.11/dist-packages (from stable-baselines3) (2.6.0+cu124)\n",
            "Requirement already satisfied: cloudpickle in /usr/local/lib/python3.11/dist-packages (from stable-baselines3) (3.1.1)\n",
            "Requirement already satisfied: pandas in /usr/local/lib/python3.11/dist-packages (from stable-baselines3) (2.2.2)\n",
            "Requirement already satisfied: matplotlib in /usr/local/lib/python3.11/dist-packages (from stable-baselines3) (3.10.0)\n",
            "Requirement already satisfied: typing-extensions>=4.3.0 in /usr/local/lib/python3.11/dist-packages (from gymnasium<1.2.0,>=0.29.1->stable-baselines3) (4.13.2)\n",
            "Requirement already satisfied: farama-notifications>=0.0.1 in /usr/local/lib/python3.11/dist-packages (from gymnasium<1.2.0,>=0.29.1->stable-baselines3) (0.0.4)\n",
            "Requirement already satisfied: filelock in /usr/local/lib/python3.11/dist-packages (from torch<3.0,>=2.3->stable-baselines3) (3.18.0)\n",
            "Requirement already satisfied: networkx in /usr/local/lib/python3.11/dist-packages (from torch<3.0,>=2.3->stable-baselines3) (3.4.2)\n",
            "Requirement already satisfied: jinja2 in /usr/local/lib/python3.11/dist-packages (from torch<3.0,>=2.3->stable-baselines3) (3.1.6)\n",
            "Requirement already satisfied: fsspec in /usr/local/lib/python3.11/dist-packages (from torch<3.0,>=2.3->stable-baselines3) (2025.3.2)\n",
            "Collecting nvidia-cuda-nvrtc-cu12==12.4.127 (from torch<3.0,>=2.3->stable-baselines3)\n",
            "  Downloading nvidia_cuda_nvrtc_cu12-12.4.127-py3-none-manylinux2014_x86_64.whl.metadata (1.5 kB)\n",
            "Collecting nvidia-cuda-runtime-cu12==12.4.127 (from torch<3.0,>=2.3->stable-baselines3)\n",
            "  Downloading nvidia_cuda_runtime_cu12-12.4.127-py3-none-manylinux2014_x86_64.whl.metadata (1.5 kB)\n",
            "Collecting nvidia-cuda-cupti-cu12==12.4.127 (from torch<3.0,>=2.3->stable-baselines3)\n",
            "  Downloading nvidia_cuda_cupti_cu12-12.4.127-py3-none-manylinux2014_x86_64.whl.metadata (1.6 kB)\n",
            "Collecting nvidia-cudnn-cu12==9.1.0.70 (from torch<3.0,>=2.3->stable-baselines3)\n",
            "  Downloading nvidia_cudnn_cu12-9.1.0.70-py3-none-manylinux2014_x86_64.whl.metadata (1.6 kB)\n",
            "Collecting nvidia-cublas-cu12==12.4.5.8 (from torch<3.0,>=2.3->stable-baselines3)\n",
            "  Downloading nvidia_cublas_cu12-12.4.5.8-py3-none-manylinux2014_x86_64.whl.metadata (1.5 kB)\n",
            "Collecting nvidia-cufft-cu12==11.2.1.3 (from torch<3.0,>=2.3->stable-baselines3)\n",
            "  Downloading nvidia_cufft_cu12-11.2.1.3-py3-none-manylinux2014_x86_64.whl.metadata (1.5 kB)\n",
            "Collecting nvidia-curand-cu12==10.3.5.147 (from torch<3.0,>=2.3->stable-baselines3)\n",
            "  Downloading nvidia_curand_cu12-10.3.5.147-py3-none-manylinux2014_x86_64.whl.metadata (1.5 kB)\n",
            "Collecting nvidia-cusolver-cu12==11.6.1.9 (from torch<3.0,>=2.3->stable-baselines3)\n",
            "  Downloading nvidia_cusolver_cu12-11.6.1.9-py3-none-manylinux2014_x86_64.whl.metadata (1.6 kB)\n",
            "Collecting nvidia-cusparse-cu12==12.3.1.170 (from torch<3.0,>=2.3->stable-baselines3)\n",
            "  Downloading nvidia_cusparse_cu12-12.3.1.170-py3-none-manylinux2014_x86_64.whl.metadata (1.6 kB)\n",
            "Requirement already satisfied: nvidia-cusparselt-cu12==0.6.2 in /usr/local/lib/python3.11/dist-packages (from torch<3.0,>=2.3->stable-baselines3) (0.6.2)\n",
            "Requirement already satisfied: nvidia-nccl-cu12==2.21.5 in /usr/local/lib/python3.11/dist-packages (from torch<3.0,>=2.3->stable-baselines3) (2.21.5)\n",
            "Requirement already satisfied: nvidia-nvtx-cu12==12.4.127 in /usr/local/lib/python3.11/dist-packages (from torch<3.0,>=2.3->stable-baselines3) (12.4.127)\n",
            "Collecting nvidia-nvjitlink-cu12==12.4.127 (from torch<3.0,>=2.3->stable-baselines3)\n",
            "  Downloading nvidia_nvjitlink_cu12-12.4.127-py3-none-manylinux2014_x86_64.whl.metadata (1.5 kB)\n",
            "Requirement already satisfied: triton==3.2.0 in /usr/local/lib/python3.11/dist-packages (from torch<3.0,>=2.3->stable-baselines3) (3.2.0)\n",
            "Requirement already satisfied: sympy==1.13.1 in /usr/local/lib/python3.11/dist-packages (from torch<3.0,>=2.3->stable-baselines3) (1.13.1)\n",
            "Requirement already satisfied: mpmath<1.4,>=1.1.0 in /usr/local/lib/python3.11/dist-packages (from sympy==1.13.1->torch<3.0,>=2.3->stable-baselines3) (1.3.0)\n",
            "Requirement already satisfied: contourpy>=1.0.1 in /usr/local/lib/python3.11/dist-packages (from matplotlib->stable-baselines3) (1.3.2)\n",
            "Requirement already satisfied: cycler>=0.10 in /usr/local/lib/python3.11/dist-packages (from matplotlib->stable-baselines3) (0.12.1)\n",
            "Requirement already satisfied: fonttools>=4.22.0 in /usr/local/lib/python3.11/dist-packages (from matplotlib->stable-baselines3) (4.57.0)\n",
            "Requirement already satisfied: kiwisolver>=1.3.1 in /usr/local/lib/python3.11/dist-packages (from matplotlib->stable-baselines3) (1.4.8)\n",
            "Requirement already satisfied: packaging>=20.0 in /usr/local/lib/python3.11/dist-packages (from matplotlib->stable-baselines3) (24.2)\n",
            "Requirement already satisfied: pillow>=8 in /usr/local/lib/python3.11/dist-packages (from matplotlib->stable-baselines3) (11.2.1)\n",
            "Requirement already satisfied: pyparsing>=2.3.1 in /usr/local/lib/python3.11/dist-packages (from matplotlib->stable-baselines3) (3.2.3)\n",
            "Requirement already satisfied: python-dateutil>=2.7 in /usr/local/lib/python3.11/dist-packages (from matplotlib->stable-baselines3) (2.9.0.post0)\n",
            "Requirement already satisfied: pytz>=2020.1 in /usr/local/lib/python3.11/dist-packages (from pandas->stable-baselines3) (2025.2)\n",
            "Requirement already satisfied: tzdata>=2022.7 in /usr/local/lib/python3.11/dist-packages (from pandas->stable-baselines3) (2025.2)\n",
            "Requirement already satisfied: six>=1.5 in /usr/local/lib/python3.11/dist-packages (from python-dateutil>=2.7->matplotlib->stable-baselines3) (1.17.0)\n",
            "Requirement already satisfied: MarkupSafe>=2.0 in /usr/local/lib/python3.11/dist-packages (from jinja2->torch<3.0,>=2.3->stable-baselines3) (3.0.2)\n",
            "Downloading stable_baselines3-2.6.0-py3-none-any.whl (184 kB)\n",
            "\u001b[2K   \u001b[90m━━━━━━━━━━━━━━━━━━━━━━━━━━━━━━━━━━━━━━━━\u001b[0m \u001b[32m184.5/184.5 kB\u001b[0m \u001b[31m3.7 MB/s\u001b[0m eta \u001b[36m0:00:00\u001b[0m\n",
            "\u001b[?25hDownloading nvidia_cublas_cu12-12.4.5.8-py3-none-manylinux2014_x86_64.whl (363.4 MB)\n",
            "\u001b[2K   \u001b[90m━━━━━━━━━━━━━━━━━━━━━━━━━━━━━━━━━━━━━━━━\u001b[0m \u001b[32m363.4/363.4 MB\u001b[0m \u001b[31m1.6 MB/s\u001b[0m eta \u001b[36m0:00:00\u001b[0m\n",
            "\u001b[?25hDownloading nvidia_cuda_cupti_cu12-12.4.127-py3-none-manylinux2014_x86_64.whl (13.8 MB)\n",
            "\u001b[2K   \u001b[90m━━━━━━━━━━━━━━━━━━━━━━━━━━━━━━━━━━━━━━━━\u001b[0m \u001b[32m13.8/13.8 MB\u001b[0m \u001b[31m90.0 MB/s\u001b[0m eta \u001b[36m0:00:00\u001b[0m\n",
            "\u001b[?25hDownloading nvidia_cuda_nvrtc_cu12-12.4.127-py3-none-manylinux2014_x86_64.whl (24.6 MB)\n",
            "\u001b[2K   \u001b[90m━━━━━━━━━━━━━━━━━━━━━━━━━━━━━━━━━━━━━━━━\u001b[0m \u001b[32m24.6/24.6 MB\u001b[0m \u001b[31m64.2 MB/s\u001b[0m eta \u001b[36m0:00:00\u001b[0m\n",
            "\u001b[?25hDownloading nvidia_cuda_runtime_cu12-12.4.127-py3-none-manylinux2014_x86_64.whl (883 kB)\n",
            "\u001b[2K   \u001b[90m━━━━━━━━━━━━━━━━━━━━━━━━━━━━━━━━━━━━━━━━\u001b[0m \u001b[32m883.7/883.7 kB\u001b[0m \u001b[31m42.2 MB/s\u001b[0m eta \u001b[36m0:00:00\u001b[0m\n",
            "\u001b[?25hDownloading nvidia_cudnn_cu12-9.1.0.70-py3-none-manylinux2014_x86_64.whl (664.8 MB)\n",
            "\u001b[2K   \u001b[90m━━━━━━━━━━━━━━━━━━━━━━━━━━━━━━━━━━━━━━━━\u001b[0m \u001b[32m664.8/664.8 MB\u001b[0m \u001b[31m2.9 MB/s\u001b[0m eta \u001b[36m0:00:00\u001b[0m\n",
            "\u001b[?25hDownloading nvidia_cufft_cu12-11.2.1.3-py3-none-manylinux2014_x86_64.whl (211.5 MB)\n",
            "\u001b[2K   \u001b[90m━━━━━━━━━━━━━━━━━━━━━━━━━━━━━━━━━━━━━━━━\u001b[0m \u001b[32m211.5/211.5 MB\u001b[0m \u001b[31m6.1 MB/s\u001b[0m eta \u001b[36m0:00:00\u001b[0m\n",
            "\u001b[?25hDownloading nvidia_curand_cu12-10.3.5.147-py3-none-manylinux2014_x86_64.whl (56.3 MB)\n",
            "\u001b[2K   \u001b[90m━━━━━━━━━━━━━━━━━━━━━━━━━━━━━━━━━━━━━━━━\u001b[0m \u001b[32m56.3/56.3 MB\u001b[0m \u001b[31m11.7 MB/s\u001b[0m eta \u001b[36m0:00:00\u001b[0m\n",
            "\u001b[?25hDownloading nvidia_cusolver_cu12-11.6.1.9-py3-none-manylinux2014_x86_64.whl (127.9 MB)\n",
            "\u001b[2K   \u001b[90m━━━━━━━━━━━━━━━━━━━━━━━━━━━━━━━━━━━━━━━━\u001b[0m \u001b[32m127.9/127.9 MB\u001b[0m \u001b[31m7.7 MB/s\u001b[0m eta \u001b[36m0:00:00\u001b[0m\n",
            "\u001b[?25hDownloading nvidia_cusparse_cu12-12.3.1.170-py3-none-manylinux2014_x86_64.whl (207.5 MB)\n",
            "\u001b[2K   \u001b[90m━━━━━━━━━━━━━━━━━━━━━━━━━━━━━━━━━━━━━━━━\u001b[0m \u001b[32m207.5/207.5 MB\u001b[0m \u001b[31m6.3 MB/s\u001b[0m eta \u001b[36m0:00:00\u001b[0m\n",
            "\u001b[?25hDownloading nvidia_nvjitlink_cu12-12.4.127-py3-none-manylinux2014_x86_64.whl (21.1 MB)\n",
            "\u001b[2K   \u001b[90m━━━━━━━━━━━━━━━━━━━━━━━━━━━━━━━━━━━━━━━━\u001b[0m \u001b[32m21.1/21.1 MB\u001b[0m \u001b[31m86.7 MB/s\u001b[0m eta \u001b[36m0:00:00\u001b[0m\n",
            "\u001b[?25hInstalling collected packages: nvidia-nvjitlink-cu12, nvidia-curand-cu12, nvidia-cufft-cu12, nvidia-cuda-runtime-cu12, nvidia-cuda-nvrtc-cu12, nvidia-cuda-cupti-cu12, nvidia-cublas-cu12, nvidia-cusparse-cu12, nvidia-cudnn-cu12, nvidia-cusolver-cu12, stable-baselines3\n",
            "  Attempting uninstall: nvidia-nvjitlink-cu12\n",
            "    Found existing installation: nvidia-nvjitlink-cu12 12.5.82\n",
            "    Uninstalling nvidia-nvjitlink-cu12-12.5.82:\n",
            "      Successfully uninstalled nvidia-nvjitlink-cu12-12.5.82\n",
            "  Attempting uninstall: nvidia-curand-cu12\n",
            "    Found existing installation: nvidia-curand-cu12 10.3.6.82\n",
            "    Uninstalling nvidia-curand-cu12-10.3.6.82:\n",
            "      Successfully uninstalled nvidia-curand-cu12-10.3.6.82\n",
            "  Attempting uninstall: nvidia-cufft-cu12\n",
            "    Found existing installation: nvidia-cufft-cu12 11.2.3.61\n",
            "    Uninstalling nvidia-cufft-cu12-11.2.3.61:\n",
            "      Successfully uninstalled nvidia-cufft-cu12-11.2.3.61\n",
            "  Attempting uninstall: nvidia-cuda-runtime-cu12\n",
            "    Found existing installation: nvidia-cuda-runtime-cu12 12.5.82\n",
            "    Uninstalling nvidia-cuda-runtime-cu12-12.5.82:\n",
            "      Successfully uninstalled nvidia-cuda-runtime-cu12-12.5.82\n",
            "  Attempting uninstall: nvidia-cuda-nvrtc-cu12\n",
            "    Found existing installation: nvidia-cuda-nvrtc-cu12 12.5.82\n",
            "    Uninstalling nvidia-cuda-nvrtc-cu12-12.5.82:\n",
            "      Successfully uninstalled nvidia-cuda-nvrtc-cu12-12.5.82\n",
            "  Attempting uninstall: nvidia-cuda-cupti-cu12\n",
            "    Found existing installation: nvidia-cuda-cupti-cu12 12.5.82\n",
            "    Uninstalling nvidia-cuda-cupti-cu12-12.5.82:\n",
            "      Successfully uninstalled nvidia-cuda-cupti-cu12-12.5.82\n",
            "  Attempting uninstall: nvidia-cublas-cu12\n",
            "    Found existing installation: nvidia-cublas-cu12 12.5.3.2\n",
            "    Uninstalling nvidia-cublas-cu12-12.5.3.2:\n",
            "      Successfully uninstalled nvidia-cublas-cu12-12.5.3.2\n",
            "  Attempting uninstall: nvidia-cusparse-cu12\n",
            "    Found existing installation: nvidia-cusparse-cu12 12.5.1.3\n",
            "    Uninstalling nvidia-cusparse-cu12-12.5.1.3:\n",
            "      Successfully uninstalled nvidia-cusparse-cu12-12.5.1.3\n",
            "  Attempting uninstall: nvidia-cudnn-cu12\n",
            "    Found existing installation: nvidia-cudnn-cu12 9.3.0.75\n",
            "    Uninstalling nvidia-cudnn-cu12-9.3.0.75:\n",
            "      Successfully uninstalled nvidia-cudnn-cu12-9.3.0.75\n",
            "  Attempting uninstall: nvidia-cusolver-cu12\n",
            "    Found existing installation: nvidia-cusolver-cu12 11.6.3.83\n",
            "    Uninstalling nvidia-cusolver-cu12-11.6.3.83:\n",
            "      Successfully uninstalled nvidia-cusolver-cu12-11.6.3.83\n",
            "Successfully installed nvidia-cublas-cu12-12.4.5.8 nvidia-cuda-cupti-cu12-12.4.127 nvidia-cuda-nvrtc-cu12-12.4.127 nvidia-cuda-runtime-cu12-12.4.127 nvidia-cudnn-cu12-9.1.0.70 nvidia-cufft-cu12-11.2.1.3 nvidia-curand-cu12-10.3.5.147 nvidia-cusolver-cu12-11.6.1.9 nvidia-cusparse-cu12-12.3.1.170 nvidia-nvjitlink-cu12-12.4.127 stable-baselines3-2.6.0\n",
            "Collecting groq\n",
            "  Downloading groq-0.24.0-py3-none-any.whl.metadata (15 kB)\n",
            "Requirement already satisfied: anyio<5,>=3.5.0 in /usr/local/lib/python3.11/dist-packages (from groq) (4.9.0)\n",
            "Requirement already satisfied: distro<2,>=1.7.0 in /usr/local/lib/python3.11/dist-packages (from groq) (1.9.0)\n",
            "Requirement already satisfied: httpx<1,>=0.23.0 in /usr/local/lib/python3.11/dist-packages (from groq) (0.28.1)\n",
            "Requirement already satisfied: pydantic<3,>=1.9.0 in /usr/local/lib/python3.11/dist-packages (from groq) (2.11.4)\n",
            "Requirement already satisfied: sniffio in /usr/local/lib/python3.11/dist-packages (from groq) (1.3.1)\n",
            "Requirement already satisfied: typing-extensions<5,>=4.10 in /usr/local/lib/python3.11/dist-packages (from groq) (4.13.2)\n",
            "Requirement already satisfied: idna>=2.8 in /usr/local/lib/python3.11/dist-packages (from anyio<5,>=3.5.0->groq) (3.10)\n",
            "Requirement already satisfied: certifi in /usr/local/lib/python3.11/dist-packages (from httpx<1,>=0.23.0->groq) (2025.4.26)\n",
            "Requirement already satisfied: httpcore==1.* in /usr/local/lib/python3.11/dist-packages (from httpx<1,>=0.23.0->groq) (1.0.9)\n",
            "Requirement already satisfied: h11>=0.16 in /usr/local/lib/python3.11/dist-packages (from httpcore==1.*->httpx<1,>=0.23.0->groq) (0.16.0)\n",
            "Requirement already satisfied: annotated-types>=0.6.0 in /usr/local/lib/python3.11/dist-packages (from pydantic<3,>=1.9.0->groq) (0.7.0)\n",
            "Requirement already satisfied: pydantic-core==2.33.2 in /usr/local/lib/python3.11/dist-packages (from pydantic<3,>=1.9.0->groq) (2.33.2)\n",
            "Requirement already satisfied: typing-inspection>=0.4.0 in /usr/local/lib/python3.11/dist-packages (from pydantic<3,>=1.9.0->groq) (0.4.0)\n",
            "Downloading groq-0.24.0-py3-none-any.whl (127 kB)\n",
            "\u001b[2K   \u001b[90m━━━━━━━━━━━━━━━━━━━━━━━━━━━━━━━━━━━━━━━━\u001b[0m \u001b[32m127.5/127.5 kB\u001b[0m \u001b[31m3.1 MB/s\u001b[0m eta \u001b[36m0:00:00\u001b[0m\n",
            "\u001b[?25hInstalling collected packages: groq\n",
            "Successfully installed groq-0.24.0\n"
          ]
        }
      ]
    },
    {
      "cell_type": "code",
      "source": [
        "import warnings\n",
        "warnings.filterwarnings(\"ignore\", message=\".*does not have valid feature names.*\") #ignore warning when we pass numpy array without feature names instead of pandas df"
      ],
      "metadata": {
        "id": "QRMHmMwkutbE"
      },
      "execution_count": 5,
      "outputs": []
    },
    {
      "cell_type": "code",
      "execution_count": 6,
      "metadata": {
        "id": "OzAK4ufhKiJ-"
      },
      "outputs": [],
      "source": [
        "import shap\n",
        "import pandas as pd\n",
        "import numpy as np\n",
        "from groq import Groq\n",
        "import os\n",
        "import joblib\n",
        "\n",
        "import matplotlib.pyplot as plt\n",
        "import seaborn as sns\n",
        "import gym\n",
        "from gym import spaces\n",
        "from stable_baselines3 import PPO\n",
        "from sklearn.model_selection import train_test_split\n",
        "import pickle"
      ]
    },
    {
      "cell_type": "code",
      "source": [
        "def convert_np_floats(obj):\n",
        "    if isinstance(obj, dict):\n",
        "        return {k: convert_np_floats(v) for k, v in obj.items()}\n",
        "    elif isinstance(obj, (np.float32, np.float64)):\n",
        "        return float(obj)\n",
        "    else:\n",
        "        return obj"
      ],
      "metadata": {
        "id": "HrGtqG355G0S"
      },
      "execution_count": 7,
      "outputs": []
    },
    {
      "cell_type": "code",
      "source": [
        "def get_plan(rl_model, scaler, env, row):\n",
        "    # Compute injury probability\n",
        "    daily_features = row[[\n",
        "        'perceived_exertion.0', 'perceived_recovery.0',\n",
        "        'nr._sessions.0', 'total_km.0', 'stress_ratio.0'\n",
        "    ]].values.reshape(1, -1)\n",
        "    daily_features = scaler.transform(daily_features)\n",
        "    injury_prob = env.ml_model.predict_proba(daily_features)[0][1]\n",
        "\n",
        "    # Construct the input state\n",
        "    state = np.array([row[feat] for feat in env.rl_features] + [injury_prob], dtype=np.float32)\n",
        "\n",
        "    # Predict action\n",
        "    action, _states  = rl_model.predict(state)\n",
        "\n",
        "    state_dict = dict(zip(env.rl_features + [\"injury_prob\"], state))\n",
        "\n",
        "    reward_details = reward_function(action, state_dict)\n",
        "    reward = reward_details['Total reward']\n",
        "\n",
        "    return {\n",
        "        \"weekly_plan\": {\n",
        "            \"total_km\": action[0],\n",
        "            \"km_z3-4\": action[1],\n",
        "            \"km_z5-t1-t2\": action[2],\n",
        "            \"km_sprinting\": action[3],\n",
        "            \"strength_training\": int(round(action[4])),  # binary\n",
        "            \"hours_alternative\": action[5]\n",
        "        },\n",
        "        \"injury_prob\": injury_prob,\n",
        "        \"total_reward\": reward,\n",
        "        \"reward_breakdown\": reward_details\n",
        "    }\n"
      ],
      "metadata": {
        "id": "tf7RERVBzZXW"
      },
      "execution_count": 8,
      "outputs": []
    },
    {
      "cell_type": "code",
      "source": [
        "def reward_function(action, state):\n",
        "    total_km, km_z34, km_z5, km_sprint, strength, alt_hrs = action\n",
        "\n",
        "    ################################### Rewards\n",
        "    reward = 0\n",
        "\n",
        "    # Productive training reward\n",
        "    prod_reward = 0.3 * km_z34 + 0.5 * km_z5 + 0.1 * total_km\n",
        "\n",
        "    # Recovery practices reward\n",
        "    rec_reward = 0.2 * alt_hrs + 0.4 * state['perceived_recovery_avg']\n",
        "\n",
        "    reward += prod_reward + rec_reward\n",
        "\n",
        "    ################################### Penalties\n",
        "\n",
        "    # Deviation from baseline (Z-score) penalty with clipping\n",
        "    z_penalty = 0\n",
        "    for metric in ['km_sprinting', 'hours_alternative', 'perceived_exertion',\n",
        "                   'perceived_recovery', 'stress_ratio', 'high_zone_pct']:\n",
        "        z = state.get(f'{metric}_zcore_sum', 0)\n",
        "        if abs(z) > 3.0:\n",
        "            penalty = -min(1.5 * abs(z), 5.0)  # Clip to max 5\n",
        "            z_penalty += penalty\n",
        "\n",
        "    reward += z_penalty\n",
        "\n",
        "    # Stress penalty (scaled and capped)\n",
        "    stress_penalty = -min((state['stress_ratio_avg'] - 1.3) * 1.0, 2.0) if state['stress_ratio_avg'] > 1.3 else 0\n",
        "    reward += stress_penalty\n",
        "\n",
        "    # Excessive high-intensity penalty (clip overuse)\n",
        "    excess_hz_penalty = 0\n",
        "    if state['high_zone_pct'] > 20:\n",
        "        excess_hz_penalty = -min(0.05 * (state['high_zone_pct'] - 20) ** 2, 2.0)\n",
        "        reward += excess_hz_penalty\n",
        "\n",
        "    # Low recovery with high exertion penalty (quadratic growth)\n",
        "    low_rec_high_ex_penalty = 0\n",
        "    if (state['perceived_recovery_avg'] < 0.25) and (state['perceived_exertion_avg'] > 0.3):\n",
        "        low_rec_high_ex_penalty = -((0.25 - state['perceived_recovery_avg']) *\n",
        "                                    (state['perceived_exertion_avg'] - 0.3)) * 4.0\n",
        "        low_rec_high_ex_penalty = max(low_rec_high_ex_penalty, -2.0)\n",
        "        reward += low_rec_high_ex_penalty\n",
        "\n",
        "    # Injury risk proxy penalty (clip and scale down)\n",
        "    injury_penalty = -min(state['perceived_recovery_avg'] * 2.5, 2.5)\n",
        "    reward += injury_penalty\n",
        "\n",
        "    return {\n",
        "        'productive training reward': prod_reward,\n",
        "        'good recovery practices reward': rec_reward,\n",
        "        'deviation from normal baseline penalty': z_penalty,\n",
        "        'high stress penalty': stress_penalty,\n",
        "        'excessive high intensity penalty': excess_hz_penalty,\n",
        "        'low recovery with high exertion penalty': low_rec_high_ex_penalty,\n",
        "        'injury risk penalty': injury_penalty,\n",
        "        'Total reward': reward\n",
        "    }\n"
      ],
      "metadata": {
        "id": "gmJ_XFUsz6DH"
      },
      "execution_count": 9,
      "outputs": []
    },
    {
      "cell_type": "code",
      "source": [
        "class PlayerTrainingEnv(gym.Env):\n",
        "    def __init__(self, player_data, ml_model, scaler, rl_features, weekly_mean_stats):\n",
        "        super(PlayerTrainingEnv, self).__init__()\n",
        "\n",
        "        self.player_data = player_data\n",
        "        self.ml_model = ml_model\n",
        "        self.rl_features = rl_features\n",
        "        self.weekly_mean_stats = weekly_mean_stats\n",
        "        self.scaler = scaler\n",
        "\n",
        "        self.current_step = 0\n",
        "\n",
        "        # state: weekly stats + injury prob\n",
        "        #['km_sprinting_avg', 'hours_alternative_avg', 'perceived_exertion_avg', 'perceived_recovery_avg',\n",
        "        #'stress_ratio_avg', 'high_zone_pct', 'km_sprinting_zcore_sum', 'hours_alternative_zcore_sum',\n",
        "        #'perceived_exertion_zcore_sum', 'perceived_recovery_zcore_sum', 'stress_ratio_zcore_sum', 'high_zone_pct_zcore_sum']\n",
        "        self.observation_space = spaces.Box(\n",
        "            low=np.zeros(len(rl_features) + 1),\n",
        "            high=np.array([15, 10, 1, 1, 5, 100,\n",
        "                           5, 5, 5, 5, 5, 5,\n",
        "                           1\n",
        "                          ]),\n",
        "            dtype=np.float32\n",
        "        )\n",
        "\n",
        "        # action: trainig targets ['total_km', 'km_z3-4', 'km_z5-t1-t2', 'km_sprinting', 'strength_training', 'hours_alternative']\n",
        "        self.action_space = spaces.Box(\n",
        "            low=np.array([0, 0, 0, 0, 0, 0]),\n",
        "            high=np.array([50, 30, 15, 5, 1, 5]),\n",
        "            dtype=np.float32\n",
        "        )\n",
        "\n",
        "\n",
        "\n",
        "    def step(self, action):\n",
        "\n",
        "        #injury risk pred based on latest day\n",
        "        daily_features = self.player_data.iloc[self.current_step][[\n",
        "            'perceived_exertion.0', 'perceived_recovery.0',\n",
        "            'nr._sessions.0', 'total_km.0', 'stress_ratio.0'\n",
        "        ]].values.reshape(1, -1)\n",
        "\n",
        "        daily_features = self.scaler.transform(daily_features)\n",
        "        injury_prob = self.ml_model.predict_proba(daily_features)[0][1]\n",
        "\n",
        "\n",
        "\n",
        "        #update state (use weekly averages from the current row)\n",
        "        #['km_sprinting_avg', 'hours_alternative_avg', 'perceived_exertion_avg', 'perceived_recovery_avg',\n",
        "        #'stress_ratio_avg', 'high_zone_pct', 'km_sprinting_zcore_sum', 'hours_alternative_zcore_sum',\n",
        "        #'perceived_exertion_zcore_sum', 'perceived_recovery_zcore_sum', 'stress_ratio_zcore_sum', 'high_zone_pct_zcore_sum']\n",
        "        features = self.rl_features + [\"injury_prob\"]\n",
        "        row = self.player_data.iloc[self.current_step]\n",
        "        values = [row[feat] for feat in self.rl_features] + [injury_prob]\n",
        "        state_dict = dict(zip(features, values))\n",
        "\n",
        "        reward_breakdown = reward_function(action, state_dict)\n",
        "        reward = reward_breakdown['Total reward']\n",
        "\n",
        "        next_state = np.array(values, dtype=np.float32)\n",
        "\n",
        "        self.current_step += 1\n",
        "        done = self.current_step >= len(self.player_data)\n",
        "\n",
        "        return next_state, reward, done, {\n",
        "            'weekly_targets': action,\n",
        "            'injury_prob': injury_prob,\n",
        "            'reward_breakdown': reward_breakdown\n",
        "        }\n",
        "\n",
        "    def reset(self):\n",
        "        self.current_step = 0\n",
        "        return np.array(self.weekly_mean_stats)"
      ],
      "metadata": {
        "id": "gOCGVVcHzcFw"
      },
      "execution_count": 10,
      "outputs": []
    },
    {
      "cell_type": "code",
      "source": [
        "def get_shap_values(explainer, df_row):\n",
        "\n",
        "  feat = ['perceived_exertion.0', 'perceived_recovery.0', 'nr._sessions.0', 'total_km.0', 'stress_ratio.0']\n",
        "  X = df_row[feat]\n",
        "\n",
        "  rename_map = {\n",
        "      \"nr._sessions.0\": \"nr. sessions\",\n",
        "      \"perceived_exertion.0\": \"perceived exertion\",\n",
        "      \"perceived_recovery.0\": \"perceived recovery\",\n",
        "      \"stress_ratio.0\": \"stress ratio\",\n",
        "      \"total_km.0\": \"total km\"\n",
        "  }\n",
        "  X = X.rename(columns=rename_map)\n",
        "  X_scaled = scaler.transform(X)\n",
        "\n",
        "  sample = X_scaled[0:1]\n",
        "  shap_values = explainer(sample)\n",
        "\n",
        "\n",
        "  shap_vals_class1 = shap_values.values[0, :, 1]\n",
        "  input_values = sample[0]\n",
        "\n",
        "  shap_res={}\n",
        "  for name, value, shap_val in zip(feat, input_values, shap_vals_class1):\n",
        "    shap_res[name] = shap_val\n",
        "\n",
        "  return shap_res\n",
        "\n",
        "\n",
        "\n",
        "  # for name, value, shap_val in zip(feat, input_values, shap_vals_class1):\n",
        "  #     print(f\"{name:<20} | input = {value:>8.3f} | shap = {shap_val:>8.3f}\")"
      ],
      "metadata": {
        "id": "4kzwAbxx05ra"
      },
      "execution_count": 11,
      "outputs": []
    },
    {
      "cell_type": "code",
      "source": [
        "client = Groq(api_key=os.environ[\"GROQ_API_KEY\"])\n",
        "\n",
        "def get_groq_response(prompt, model=\"gemma2-9b-it\"):\n",
        "\n",
        "    try:\n",
        "        chat_completion = client.chat.completions.create(\n",
        "            messages=[{\"role\": \"user\", \"content\": prompt}],\n",
        "            model=model\n",
        "        )\n",
        "        return chat_completion.choices[0].message.content\n",
        "    except Exception as e:\n",
        "        print(f\"An error occurred: {e}\")\n",
        "        return None"
      ],
      "metadata": {
        "id": "2scCJsDo0mmA"
      },
      "execution_count": 12,
      "outputs": []
    },
    {
      "cell_type": "code",
      "source": [
        "def get_pretty_stats(shap_values_dict, training_plan, injury_probability, reward_breakdown):\n",
        "    lines = []\n",
        "\n",
        "    lines.append(\"Recommended Training Plan for today:\")\n",
        "    for key, value in training_plan.items():\n",
        "        lines.append(f\"- {key}: {round(float(value), 2)}\")\n",
        "\n",
        "    lines.append(\"\\nInjury Probability based on the runner's latest daily stats:\")\n",
        "    lines.append(f\"- Estimated Risk: {round(injury_probability * 100, 2)}%\")\n",
        "\n",
        "    lines.append(\"\\nReward Breakdown:\")\n",
        "    for key, value in reward_breakdown.items():\n",
        "        lines.append(f\"- {key}: {round(float(value), 2)}\")\n",
        "\n",
        "    lines.append(\"\\nTop Contributing Factors to injury prediction (SHAP Values):\")\n",
        "    sorted_shap = sorted(shap_values_dict.items(), key=lambda x: abs(x[1]), reverse=True)\n",
        "    for feature, shap_val in sorted_shap[:5]:  # Limit to top 5\n",
        "        lines.append(f\"- {feature}: {round(float(shap_val), 3)}\")\n",
        "\n",
        "\n",
        "\n",
        "    return \"\\n\".join(lines)\n"
      ],
      "metadata": {
        "id": "bwcaVAqH6lZp"
      },
      "execution_count": 13,
      "outputs": []
    },
    {
      "cell_type": "code",
      "source": [
        "def inference_driver(df_test, row_idx):\n",
        "  unseen_row = df_test.iloc[row_idx]\n",
        "\n",
        "  plan_info  = get_plan(model, scaler, env, unseen_row)\n",
        "\n",
        "  plan_info[\"weekly_plan\"]=convert_np_floats(plan_info[\"weekly_plan\"])\n",
        "  plan_info[\"injury_prob\"]=convert_np_floats(plan_info[\"injury_prob\"])\n",
        "  plan_info[\"reward_breakdown\"]=convert_np_floats(plan_info[\"reward_breakdown\"])\n",
        "\n",
        "  # print(\"Recommended training plan for today:\")\n",
        "  # print(plan_info[\"weekly_plan\"])\n",
        "  # print(\"Injury Prob:\", plan_info[\"injury_prob\"])\n",
        "  # print(\"Reward Breakdown:\", plan_info[\"reward_breakdown\"])\n",
        "\n",
        "  shap_dict=get_shap_values(explainer, df_test.iloc[[row_idx]])\n",
        "  shap_dict=convert_np_floats(shap_dict)\n",
        "\n",
        "\n",
        "  print(\"-------------------------------------------------------\")\n",
        "  stats = get_pretty_stats(shap_dict, plan_info[\"weekly_plan\"], plan_info[\"injury_prob\"], plan_info[\"reward_breakdown\"])\n",
        "  print(stats)\n",
        "  print(\"-------------------------------------------------------\")\n",
        "  print(\"Plan rationale:\")\n",
        "\n",
        "  prompt=\"\"\"\n",
        "  You are an expert sports scientist and training analyst.\\n\n",
        "  \\nExplain the rationale behind the recommended training plan below. Focus on how and why the SHAP values and reward components contributed to the decision,\n",
        "  especially in relation to injury risk and performance optimization. Be consise, as if a (non-technical) coach would be reading this analysis.\n",
        "\n",
        "  \"\"\"+ stats\n",
        "  summary = get_groq_response(prompt)\n",
        "  print(summary)\n",
        "  print(\"-------------------------------------------------------\")"
      ],
      "metadata": {
        "id": "NKDhBL6k-7aw"
      },
      "execution_count": 14,
      "outputs": []
    },
    {
      "cell_type": "code",
      "source": [
        "##################################"
      ],
      "metadata": {
        "id": "jOoEtna00sBW"
      },
      "execution_count": 15,
      "outputs": []
    },
    {
      "cell_type": "code",
      "source": [],
      "metadata": {
        "id": "Qg3TmGgkPQPl"
      },
      "execution_count": 15,
      "outputs": []
    },
    {
      "cell_type": "code",
      "source": [
        "df = pd.read_csv(proj_path+'data/data_FE.csv')\n",
        "df.info(verbose=True)"
      ],
      "metadata": {
        "colab": {
          "base_uri": "https://localhost:8080/"
        },
        "id": "DXidMgTuuyQC",
        "outputId": "7b0c46ea-446f-456f-dc81-7f758fd6d0b5"
      },
      "execution_count": 16,
      "outputs": [
        {
          "output_type": "stream",
          "name": "stdout",
          "text": [
            "<class 'pandas.core.frame.DataFrame'>\n",
            "RangeIndex: 42766 entries, 0 to 42765\n",
            "Data columns (total 256 columns):\n",
            " #    Column                               Dtype  \n",
            "---   ------                               -----  \n",
            " 0    nr._sessions.0                       float64\n",
            " 1    total_km.0                           float64\n",
            " 2    km_z3-4.0                            float64\n",
            " 3    km_z5-t1-t2.0                        float64\n",
            " 4    km_sprinting.0                       float64\n",
            " 5    strength_training.0                  float64\n",
            " 6    hours_alternative.0                  float64\n",
            " 7    perceived_exertion.0                 float64\n",
            " 8    perceived_trainingsuccess.0          float64\n",
            " 9    perceived_recovery.0                 float64\n",
            " 10   nr._sessions.1                       float64\n",
            " 11   total_km.1                           float64\n",
            " 12   km_z3-4.1                            float64\n",
            " 13   km_z5-t1-t2.1                        float64\n",
            " 14   km_sprinting.1                       float64\n",
            " 15   strength_training.1                  float64\n",
            " 16   hours_alternative.1                  float64\n",
            " 17   perceived_exertion.1                 float64\n",
            " 18   perceived_trainingsuccess.1          float64\n",
            " 19   perceived_recovery.1                 float64\n",
            " 20   nr._sessions.2                       float64\n",
            " 21   total_km.2                           float64\n",
            " 22   km_z3-4.2                            float64\n",
            " 23   km_z5-t1-t2.2                        float64\n",
            " 24   km_sprinting.2                       float64\n",
            " 25   strength_training.2                  float64\n",
            " 26   hours_alternative.2                  float64\n",
            " 27   perceived_exertion.2                 float64\n",
            " 28   perceived_trainingsuccess.2          float64\n",
            " 29   perceived_recovery.2                 float64\n",
            " 30   nr._sessions.3                       float64\n",
            " 31   total_km.3                           float64\n",
            " 32   km_z3-4.3                            float64\n",
            " 33   km_z5-t1-t2.3                        float64\n",
            " 34   km_sprinting.3                       float64\n",
            " 35   strength_training.3                  float64\n",
            " 36   hours_alternative.3                  float64\n",
            " 37   perceived_exertion.3                 float64\n",
            " 38   perceived_trainingsuccess.3          float64\n",
            " 39   perceived_recovery.3                 float64\n",
            " 40   nr._sessions.4                       float64\n",
            " 41   total_km.4                           float64\n",
            " 42   km_z3-4.4                            float64\n",
            " 43   km_z5-t1-t2.4                        float64\n",
            " 44   km_sprinting.4                       float64\n",
            " 45   strength_training.4                  float64\n",
            " 46   hours_alternative.4                  float64\n",
            " 47   perceived_exertion.4                 float64\n",
            " 48   perceived_trainingsuccess.4          float64\n",
            " 49   perceived_recovery.4                 float64\n",
            " 50   nr._sessions.5                       float64\n",
            " 51   total_km.5                           float64\n",
            " 52   km_z3-4.5                            float64\n",
            " 53   km_z5-t1-t2.5                        float64\n",
            " 54   km_sprinting.5                       float64\n",
            " 55   strength_training.5                  float64\n",
            " 56   hours_alternative.5                  float64\n",
            " 57   perceived_exertion.5                 float64\n",
            " 58   perceived_trainingsuccess.5          float64\n",
            " 59   perceived_recovery.5                 float64\n",
            " 60   nr._sessions.6                       float64\n",
            " 61   total_km.6                           float64\n",
            " 62   km_z3-4.6                            float64\n",
            " 63   km_z5-t1-t2.6                        float64\n",
            " 64   km_sprinting.6                       float64\n",
            " 65   strength_training.6                  float64\n",
            " 66   hours_alternative.6                  float64\n",
            " 67   perceived_exertion.6                 float64\n",
            " 68   perceived_trainingsuccess.6          float64\n",
            " 69   perceived_recovery.6                 float64\n",
            " 70   athlete_id                           int64  \n",
            " 71   injury                               int64  \n",
            " 72   date                                 int64  \n",
            " 73   medium_zone_pct.0                    float64\n",
            " 74   high_zone_pct.0                      float64\n",
            " 75   sprint_pct.0                         float64\n",
            " 76   medium_zone_pct.1                    float64\n",
            " 77   high_zone_pct.1                      float64\n",
            " 78   sprint_pct.1                         float64\n",
            " 79   medium_zone_pct.2                    float64\n",
            " 80   high_zone_pct.2                      float64\n",
            " 81   sprint_pct.2                         float64\n",
            " 82   medium_zone_pct.3                    float64\n",
            " 83   high_zone_pct.3                      float64\n",
            " 84   sprint_pct.3                         float64\n",
            " 85   medium_zone_pct.4                    float64\n",
            " 86   high_zone_pct.4                      float64\n",
            " 87   sprint_pct.4                         float64\n",
            " 88   medium_zone_pct.5                    float64\n",
            " 89   high_zone_pct.5                      float64\n",
            " 90   sprint_pct.5                         float64\n",
            " 91   medium_zone_pct.6                    float64\n",
            " 92   high_zone_pct.6                      float64\n",
            " 93   sprint_pct.6                         float64\n",
            " 94   num_sessions                         float64\n",
            " 95   num_sessions_avg                     float64\n",
            " 96   num_train_days                       int64  \n",
            " 97   num_rest_days                        int64  \n",
            " 98   train_days_pct                       float64\n",
            " 99   rest_days_pct                        float64\n",
            " 100  stress_ratio.0                       float64\n",
            " 101  stress_ratio.1                       float64\n",
            " 102  stress_ratio.2                       float64\n",
            " 103  stress_ratio.3                       float64\n",
            " 104  stress_ratio.4                       float64\n",
            " 105  stress_ratio.5                       float64\n",
            " 106  stress_ratio.6                       float64\n",
            " 107  total_km_sum                         float64\n",
            " 108  total_km_avg                         float64\n",
            " 109  km_z3-4_sum                          float64\n",
            " 110  km_z3-4_avg                          float64\n",
            " 111  km_z5-t1-t2_sum                      float64\n",
            " 112  km_z5-t1-t2_avg                      float64\n",
            " 113  km_sprinting_sum                     float64\n",
            " 114  km_sprinting_avg                     float64\n",
            " 115  strength_training_sum                float64\n",
            " 116  strength_training_avg                float64\n",
            " 117  hours_alternative_sum                float64\n",
            " 118  hours_alternative_avg                float64\n",
            " 119  perceived_exertion_sum               float64\n",
            " 120  perceived_exertion_avg               float64\n",
            " 121  perceived_trainingsuccess_sum        float64\n",
            " 122  perceived_trainingsuccess_avg        float64\n",
            " 123  perceived_recovery_sum               float64\n",
            " 124  perceived_recovery_avg               float64\n",
            " 125  stress_ratio_sum                     float64\n",
            " 126  stress_ratio_avg                     float64\n",
            " 127  medium_zone_pct                      float64\n",
            " 128  high_zone_pct                        float64\n",
            " 129  sprint_pct                           float64\n",
            " 130  nr._sessions_zcore.0                 float64\n",
            " 131  nr._sessions_zcore.1                 float64\n",
            " 132  nr._sessions_zcore.2                 float64\n",
            " 133  nr._sessions_zcore.3                 float64\n",
            " 134  nr._sessions_zcore.4                 float64\n",
            " 135  nr._sessions_zcore.5                 float64\n",
            " 136  nr._sessions_zcore.6                 float64\n",
            " 137  nr._sessions_zcore_max               float64\n",
            " 138  nr._sessions_zcore_sum               float64\n",
            " 139  total_km_zcore.0                     float64\n",
            " 140  total_km_zcore.1                     float64\n",
            " 141  total_km_zcore.2                     float64\n",
            " 142  total_km_zcore.3                     float64\n",
            " 143  total_km_zcore.4                     float64\n",
            " 144  total_km_zcore.5                     float64\n",
            " 145  total_km_zcore.6                     float64\n",
            " 146  total_km_zcore_max                   float64\n",
            " 147  total_km_zcore_sum                   float64\n",
            " 148  km_z3-4_zcore.0                      float64\n",
            " 149  km_z3-4_zcore.1                      float64\n",
            " 150  km_z3-4_zcore.2                      float64\n",
            " 151  km_z3-4_zcore.3                      float64\n",
            " 152  km_z3-4_zcore.4                      float64\n",
            " 153  km_z3-4_zcore.5                      float64\n",
            " 154  km_z3-4_zcore.6                      float64\n",
            " 155  km_z3-4_zcore_max                    float64\n",
            " 156  km_z3-4_zcore_sum                    float64\n",
            " 157  km_z5-t1-t2_zcore.0                  float64\n",
            " 158  km_z5-t1-t2_zcore.1                  float64\n",
            " 159  km_z5-t1-t2_zcore.2                  float64\n",
            " 160  km_z5-t1-t2_zcore.3                  float64\n",
            " 161  km_z5-t1-t2_zcore.4                  float64\n",
            " 162  km_z5-t1-t2_zcore.5                  float64\n",
            " 163  km_z5-t1-t2_zcore.6                  float64\n",
            " 164  km_z5-t1-t2_zcore_max                float64\n",
            " 165  km_z5-t1-t2_zcore_sum                float64\n",
            " 166  km_sprinting_zcore.0                 float64\n",
            " 167  km_sprinting_zcore.1                 float64\n",
            " 168  km_sprinting_zcore.2                 float64\n",
            " 169  km_sprinting_zcore.3                 float64\n",
            " 170  km_sprinting_zcore.4                 float64\n",
            " 171  km_sprinting_zcore.5                 float64\n",
            " 172  km_sprinting_zcore.6                 float64\n",
            " 173  km_sprinting_zcore_max               float64\n",
            " 174  km_sprinting_zcore_sum               float64\n",
            " 175  strength_training_zcore.0            float64\n",
            " 176  strength_training_zcore.1            float64\n",
            " 177  strength_training_zcore.2            float64\n",
            " 178  strength_training_zcore.3            float64\n",
            " 179  strength_training_zcore.4            float64\n",
            " 180  strength_training_zcore.5            float64\n",
            " 181  strength_training_zcore.6            float64\n",
            " 182  strength_training_zcore_max          float64\n",
            " 183  strength_training_zcore_sum          float64\n",
            " 184  hours_alternative_zcore.0            float64\n",
            " 185  hours_alternative_zcore.1            float64\n",
            " 186  hours_alternative_zcore.2            float64\n",
            " 187  hours_alternative_zcore.3            float64\n",
            " 188  hours_alternative_zcore.4            float64\n",
            " 189  hours_alternative_zcore.5            float64\n",
            " 190  hours_alternative_zcore.6            float64\n",
            " 191  hours_alternative_zcore_max          float64\n",
            " 192  hours_alternative_zcore_sum          float64\n",
            " 193  perceived_exertion_zcore.0           float64\n",
            " 194  perceived_exertion_zcore.1           float64\n",
            " 195  perceived_exertion_zcore.2           float64\n",
            " 196  perceived_exertion_zcore.3           float64\n",
            " 197  perceived_exertion_zcore.4           float64\n",
            " 198  perceived_exertion_zcore.5           float64\n",
            " 199  perceived_exertion_zcore.6           float64\n",
            " 200  perceived_exertion_zcore_max         float64\n",
            " 201  perceived_exertion_zcore_sum         float64\n",
            " 202  perceived_trainingsuccess_zcore.0    float64\n",
            " 203  perceived_trainingsuccess_zcore.1    float64\n",
            " 204  perceived_trainingsuccess_zcore.2    float64\n",
            " 205  perceived_trainingsuccess_zcore.3    float64\n",
            " 206  perceived_trainingsuccess_zcore.4    float64\n",
            " 207  perceived_trainingsuccess_zcore.5    float64\n",
            " 208  perceived_trainingsuccess_zcore.6    float64\n",
            " 209  perceived_trainingsuccess_zcore_max  float64\n",
            " 210  perceived_trainingsuccess_zcore_sum  float64\n",
            " 211  perceived_recovery_zcore.0           float64\n",
            " 212  perceived_recovery_zcore.1           float64\n",
            " 213  perceived_recovery_zcore.2           float64\n",
            " 214  perceived_recovery_zcore.3           float64\n",
            " 215  perceived_recovery_zcore.4           float64\n",
            " 216  perceived_recovery_zcore.5           float64\n",
            " 217  perceived_recovery_zcore.6           float64\n",
            " 218  perceived_recovery_zcore_max         float64\n",
            " 219  perceived_recovery_zcore_sum         float64\n",
            " 220  medium_zone_pct_zcore.0              float64\n",
            " 221  medium_zone_pct_zcore.1              float64\n",
            " 222  medium_zone_pct_zcore.2              float64\n",
            " 223  medium_zone_pct_zcore.3              float64\n",
            " 224  medium_zone_pct_zcore.4              float64\n",
            " 225  medium_zone_pct_zcore.5              float64\n",
            " 226  medium_zone_pct_zcore.6              float64\n",
            " 227  medium_zone_pct_zcore_max            float64\n",
            " 228  medium_zone_pct_zcore_sum            float64\n",
            " 229  high_zone_pct_zcore.0                float64\n",
            " 230  high_zone_pct_zcore.1                float64\n",
            " 231  high_zone_pct_zcore.2                float64\n",
            " 232  high_zone_pct_zcore.3                float64\n",
            " 233  high_zone_pct_zcore.4                float64\n",
            " 234  high_zone_pct_zcore.5                float64\n",
            " 235  high_zone_pct_zcore.6                float64\n",
            " 236  high_zone_pct_zcore_max              float64\n",
            " 237  high_zone_pct_zcore_sum              float64\n",
            " 238  sprint_pct_zcore.0                   float64\n",
            " 239  sprint_pct_zcore.1                   float64\n",
            " 240  sprint_pct_zcore.2                   float64\n",
            " 241  sprint_pct_zcore.3                   float64\n",
            " 242  sprint_pct_zcore.4                   float64\n",
            " 243  sprint_pct_zcore.5                   float64\n",
            " 244  sprint_pct_zcore.6                   float64\n",
            " 245  sprint_pct_zcore_max                 float64\n",
            " 246  sprint_pct_zcore_sum                 float64\n",
            " 247  stress_ratio_zcore.0                 float64\n",
            " 248  stress_ratio_zcore.1                 float64\n",
            " 249  stress_ratio_zcore.2                 float64\n",
            " 250  stress_ratio_zcore.3                 float64\n",
            " 251  stress_ratio_zcore.4                 float64\n",
            " 252  stress_ratio_zcore.5                 float64\n",
            " 253  stress_ratio_zcore.6                 float64\n",
            " 254  stress_ratio_zcore_max               float64\n",
            " 255  stress_ratio_zcore_sum               float64\n",
            "dtypes: float64(251), int64(5)\n",
            "memory usage: 83.5 MB\n"
          ]
        }
      ]
    },
    {
      "cell_type": "code",
      "source": [
        "rl_features1 = ['km_sprinting_avg','hours_alternative_avg','perceived_exertion_avg','perceived_recovery_avg','stress_ratio_avg','high_zone_pct']\n",
        "\n",
        "rl_features2 = ['km_sprinting_zcore_sum','hours_alternative_zcore_sum','perceived_exertion_zcore_sum','perceived_recovery_zcore_sum','stress_ratio_zcore_sum','high_zone_pct_zcore_sum']\n",
        "\n",
        "rl_features = rl_features1 + rl_features2\n",
        "\n",
        "print(rl_features)\n",
        "\n",
        "injury_pred_model_features = ['perceived_exertion.0', 'perceived_recovery.0', 'nr._sessions.0', 'total_km.0', 'stress_ratio.0']"
      ],
      "metadata": {
        "colab": {
          "base_uri": "https://localhost:8080/"
        },
        "id": "71h301OwuyU7",
        "outputId": "5aa0287e-b02f-489a-b84c-83fdc34292f2"
      },
      "execution_count": 17,
      "outputs": [
        {
          "output_type": "stream",
          "name": "stdout",
          "text": [
            "['km_sprinting_avg', 'hours_alternative_avg', 'perceived_exertion_avg', 'perceived_recovery_avg', 'stress_ratio_avg', 'high_zone_pct', 'km_sprinting_zcore_sum', 'hours_alternative_zcore_sum', 'perceived_exertion_zcore_sum', 'perceived_recovery_zcore_sum', 'stress_ratio_zcore_sum', 'high_zone_pct_zcore_sum']\n"
          ]
        }
      ]
    },
    {
      "cell_type": "code",
      "source": [
        "ml_model = joblib.load(proj_path+\"models/bagging_model_balanced_oversampled.joblib\")\n",
        "scaler = joblib.load(proj_path+'models/scaler_oversampled.joblib')"
      ],
      "metadata": {
        "id": "xmT5UXHVuyZ_"
      },
      "execution_count": 18,
      "outputs": []
    },
    {
      "cell_type": "code",
      "source": [
        "with open(proj_path+'models/shap_explainer.pkl', 'rb') as f:\n",
        "    explainer = pickle.load(f)"
      ],
      "metadata": {
        "id": "DasUfAqvvIcp"
      },
      "execution_count": 19,
      "outputs": []
    },
    {
      "cell_type": "code",
      "source": [
        "model = PPO.load(proj_path+\"models/rl_runner_plan_advisor\")"
      ],
      "metadata": {
        "colab": {
          "base_uri": "https://localhost:8080/"
        },
        "id": "GHsIK4eNvAjk",
        "outputId": "3ccebb06-903e-4e14-cee5-b9268339fcfc"
      },
      "execution_count": 20,
      "outputs": [
        {
          "output_type": "stream",
          "name": "stderr",
          "text": [
            "/usr/local/lib/python3.11/dist-packages/stable_baselines3/common/save_util.py:165: DeprecationWarning: numpy.core.numeric is deprecated and has been renamed to numpy._core.numeric. The numpy._core namespace contains private NumPy internals and its use is discouraged, as NumPy internals can change without warning in any release. In practice, most real-world usage of numpy.core is to access functionality in the public NumPy API. If that is the case, use the public NumPy API. If not, you are using NumPy internals. If you would still like to access an internal attribute, use numpy._core.numeric._frombuffer.\n",
            "  deserialized_object = cloudpickle.loads(base64_object)\n"
          ]
        }
      ]
    },
    {
      "cell_type": "code",
      "source": [
        "weekly_mean_stats=df[rl_features+['injury']].mean().values\n",
        "weekly_mean_stats"
      ],
      "metadata": {
        "colab": {
          "base_uri": "https://localhost:8080/"
        },
        "id": "ijGYTdpQvAoy",
        "outputId": "b72dbb90-72fe-49e1-f053-d6eaead828d3"
      },
      "execution_count": 21,
      "outputs": [
        {
          "output_type": "execute_result",
          "data": {
            "text/plain": [
              "array([0.09453651, 0.21477512, 0.31996252, 0.25548027, 1.29823851,\n",
              "       7.07986504, 0.73758439, 0.96004084, 1.93480382, 1.87233869,\n",
              "       2.4673151 , 1.37955016, 0.01363232])"
            ]
          },
          "metadata": {},
          "execution_count": 21
        }
      ]
    },
    {
      "cell_type": "code",
      "source": [
        "unique_players = df['athlete_id'].unique()\n",
        "train_players, test_players = train_test_split(\n",
        "    unique_players, test_size=0.1, random_state=42\n",
        ")\n",
        "\n",
        "\n",
        "df_train = df[df['athlete_id'].isin(train_players)].reset_index(drop=True)\n",
        "df_test = df[df['athlete_id'].isin(test_players)].reset_index(drop=True)\n",
        "\n",
        "df = df_train\n",
        "\n",
        "len(df), len(df_test)"
      ],
      "metadata": {
        "colab": {
          "base_uri": "https://localhost:8080/"
        },
        "id": "KzBvS8I_vAmF",
        "outputId": "8f2b1429-e164-42a2-f927-b120fa99e576"
      },
      "execution_count": 22,
      "outputs": [
        {
          "output_type": "execute_result",
          "data": {
            "text/plain": [
              "(39310, 3456)"
            ]
          },
          "metadata": {},
          "execution_count": 22
        }
      ]
    },
    {
      "cell_type": "code",
      "source": [
        "env = PlayerTrainingEnv(\n",
        "    player_data=df,\n",
        "    ml_model=ml_model,\n",
        "    scaler = scaler,\n",
        "    rl_features=rl_features,\n",
        "    weekly_mean_stats=weekly_mean_stats\n",
        ")"
      ],
      "metadata": {
        "colab": {
          "base_uri": "https://localhost:8080/"
        },
        "id": "_mK7ddQSzuKc",
        "outputId": "72551417-5b30-4461-ed59-ea9850adc252"
      },
      "execution_count": 23,
      "outputs": [
        {
          "output_type": "stream",
          "name": "stderr",
          "text": [
            "/usr/local/lib/python3.11/dist-packages/gym/spaces/box.py:128: UserWarning: \u001b[33mWARN: Box bound precision lowered by casting to float32\u001b[0m\n",
            "  logger.warn(f\"Box bound precision lowered by casting to {self.dtype}\")\n"
          ]
        }
      ]
    },
    {
      "cell_type": "code",
      "source": [
        "#########################################"
      ],
      "metadata": {
        "id": "PIaVhhw5vArI"
      },
      "execution_count": 24,
      "outputs": []
    },
    {
      "cell_type": "code",
      "source": [],
      "metadata": {
        "id": "UrbzXnmZ6pSD"
      },
      "execution_count": 24,
      "outputs": []
    },
    {
      "cell_type": "code",
      "source": [],
      "metadata": {
        "id": "-gPrkw3i61Mq"
      },
      "execution_count": 24,
      "outputs": []
    },
    {
      "cell_type": "code",
      "source": [
        "inference_driver(df_test, row_idx=45)"
      ],
      "metadata": {
        "colab": {
          "base_uri": "https://localhost:8080/"
        },
        "id": "bQjxg5qJ61b8",
        "outputId": "860d0eba-25d2-4345-bdab-a8220ff86aee"
      },
      "execution_count": 25,
      "outputs": [
        {
          "output_type": "stream",
          "name": "stdout",
          "text": [
            "-------------------------------------------------------\n",
            "Recommended Training Plan for today:\n",
            "- total_km: 0.36\n",
            "- km_z3-4: 0.74\n",
            "- km_z5-t1-t2: 1.75\n",
            "- km_sprinting: 0.33\n",
            "- strength_training: 0.0\n",
            "- hours_alternative: 0.0\n",
            "\n",
            "Injury Probability based on the runner's latest daily stats:\n",
            "- Estimated Risk: 38.78%\n",
            "\n",
            "Reward Breakdown:\n",
            "- productive training reward: 1.14\n",
            "- good recovery practices reward: 0.07\n",
            "- deviation from normal baseline penalty: 0.0\n",
            "- high stress penalty: 0.0\n",
            "- excessive high intensity penalty: 0.0\n",
            "- low recovery with high exertion penalty: 0.0\n",
            "- injury risk penalty: -0.44\n",
            "- Total reward: 0.77\n",
            "\n",
            "Top Contributing Factors to injury prediction (SHAP Values):\n",
            "- perceived_recovery.0: 0.096\n",
            "- total_km.0: 0.072\n",
            "- nr._sessions.0: 0.038\n",
            "- perceived_exertion.0: 0.015\n",
            "- stress_ratio.0: 0.01\n",
            "-------------------------------------------------------\n",
            "Plan rationale:\n",
            "This training plan focuses on high-intensity workouts today (lots of \"km_z5-t1-t2\" ). It recognizes the runner's feeling of good recovery (\"perceived_recovery\"), which is important for safe training, but still carries a relatively high injury risk (38.78%) based on recent training stats.\n",
            "\n",
            "Here's why:\n",
            "\n",
            "* **SHAP Values:** These values show the impact each factor has on the injury prediction. \"Perceived_recovery\" and \"total_km\" are the strongest influences, suggesting a balance is needed between feeling good and managing overall workload.\n",
            "* **Rewards:**  The plan prioritizes \"productive training\" but also penalizes \"injury risk\", meaning it aims for a balance between high performance and safety. Despite the good recovery feeling, the high-intensity volume still leads to a negative injury risk penalty.\n",
            "\n",
            "**Key Takeaway:** This plan is pushing the runner. While it looks at recovery, it's crucial to monitor closely for any signs of fatigue or pain. Consider adjusting the plan if the runner reports feeling less recovered or shows signs of overtraining. \n",
            "\n",
            "-------------------------------------------------------\n"
          ]
        }
      ]
    },
    {
      "cell_type": "code",
      "source": [
        "inference_driver(df_test, row_idx=6)"
      ],
      "metadata": {
        "colab": {
          "base_uri": "https://localhost:8080/"
        },
        "id": "4qJ4-HUa61b8",
        "outputId": "5694a343-09b3-45a9-8aa8-84d74ebc7882"
      },
      "execution_count": 26,
      "outputs": [
        {
          "output_type": "stream",
          "name": "stdout",
          "text": [
            "-------------------------------------------------------\n",
            "Recommended Training Plan for today:\n",
            "- total_km: 0.38\n",
            "- km_z3-4: 0.0\n",
            "- km_z5-t1-t2: 0.51\n",
            "- km_sprinting: 1.43\n",
            "- strength_training: 1.0\n",
            "- hours_alternative: 0.0\n",
            "\n",
            "Injury Probability based on the runner's latest daily stats:\n",
            "- Estimated Risk: 0.0%\n",
            "\n",
            "Reward Breakdown:\n",
            "- productive training reward: 0.29\n",
            "- good recovery practices reward: 0.07\n",
            "- deviation from normal baseline penalty: 0.0\n",
            "- high stress penalty: 0.0\n",
            "- excessive high intensity penalty: 0.0\n",
            "- low recovery with high exertion penalty: 0.0\n",
            "- injury risk penalty: -0.42\n",
            "- Total reward: -0.06\n",
            "\n",
            "Top Contributing Factors to injury prediction (SHAP Values):\n",
            "- perceived_recovery.0: -0.114\n",
            "- nr._sessions.0: -0.031\n",
            "- perceived_exertion.0: -0.023\n",
            "- total_km.0: 0.01\n",
            "- stress_ratio.0: 0.0\n",
            "-------------------------------------------------------\n",
            "Plan rationale:\n",
            "This training plan prioritizes speed work today. \n",
            "\n",
            "Here's why:\n",
            "\n",
            "* **Low Injury Risk:** The model predicts zero percent risk of injury based on your recent training data.  \n",
            "* **Reward System:** The plan maximizes positive rewards for productive training and recovery.  It avoids penalties for things like pushing too hard, not recovering enough, or unusual workloads.\n",
            "\n",
            "* **SHAP Values:** These values show how much each factor influences the model's injury prediction.  \n",
            "\n",
            "    * **Good News:** Your perceived recovery and recent training volume are important positive factors.\n",
            "    * **Minimal Impact:** Today's total distance and stress level have a very small influence on the model's prediction.\n",
            "\n",
            "In a nutshell, this plan focuses on speed while keeping your safety and well-being in mind.  \n",
            "\n",
            "\n",
            "-------------------------------------------------------\n"
          ]
        }
      ]
    },
    {
      "cell_type": "code",
      "source": [
        "inference_driver(df_test, row_idx=74)"
      ],
      "metadata": {
        "id": "oshJ-Txz61b-",
        "colab": {
          "base_uri": "https://localhost:8080/"
        },
        "outputId": "5ca84640-f897-4c80-dc05-cee257297ccb"
      },
      "execution_count": 27,
      "outputs": [
        {
          "output_type": "stream",
          "name": "stdout",
          "text": [
            "-------------------------------------------------------\n",
            "Recommended Training Plan for today:\n",
            "- total_km: 0.0\n",
            "- km_z3-4: 1.24\n",
            "- km_z5-t1-t2: 0.0\n",
            "- km_sprinting: 0.0\n",
            "- strength_training: 0.0\n",
            "- hours_alternative: 1.99\n",
            "\n",
            "Injury Probability based on the runner's latest daily stats:\n",
            "- Estimated Risk: 0.0%\n",
            "\n",
            "Reward Breakdown:\n",
            "- productive training reward: 0.37\n",
            "- good recovery practices reward: 0.47\n",
            "- deviation from normal baseline penalty: 0.0\n",
            "- high stress penalty: 0.0\n",
            "- excessive high intensity penalty: 0.0\n",
            "- low recovery with high exertion penalty: 0.0\n",
            "- injury risk penalty: -0.44\n",
            "- Total reward: 0.4\n",
            "\n",
            "Top Contributing Factors to injury prediction (SHAP Values):\n",
            "- perceived_recovery.0: -0.147\n",
            "- nr._sessions.0: -0.031\n",
            "- stress_ratio.0: 0.018\n",
            "- total_km.0: 0.008\n",
            "- perceived_exertion.0: -0.006\n",
            "-------------------------------------------------------\n",
            "Plan rationale:\n",
            "Alright coach, here's the plan breakdown for today. \n",
            "\n",
            "Essentially, the athlete is getting a **recovery day**.  The system sees this as the best option to minimize injury risk **while still rewarding good recovery practices (that's a 0.47 bonus!)**.  \n",
            "\n",
            "Why no running today?  \n",
            "\n",
            "* **SHAP values show \"perceived_recovery\" heavily influences injury prediction**: The athlete likely reported feeling fatigued, so no intense running is recommended.  \n",
            "* **Even though they haven't had many training sessions recently (\"nr._sessions\"), it's still a good idea to prioritize rest to avoid a build-up of stress.**\n",
            "* **\"Stress_ratio\" is slightly positive, suggesting their recent training load has been a bit high - again, a good reason for a break.**  \n",
            "\n",
            "The total reward is boosted by the athlete's focus on recovery, and there are no penalties for high intensity or excessive stress because, well, there isn't any intense training planned!\n",
            "\n",
            "\n",
            "Let me know if you want me to dive deeper into any specific aspect.\n",
            "\n",
            "-------------------------------------------------------\n"
          ]
        }
      ]
    },
    {
      "cell_type": "code",
      "source": [],
      "metadata": {
        "id": "nA1J0z9l6QAN"
      },
      "execution_count": 26,
      "outputs": []
    }
  ]
}